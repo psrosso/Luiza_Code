{
 "cells": [
  {
   "cell_type": "code",
   "execution_count": 1,
   "metadata": {},
   "outputs": [
    {
     "name": "stdout",
     "output_type": "stream",
     "text": [
      "<class 'int'>\n"
     ]
    }
   ],
   "source": [
    "idade = 27\n",
    "\n",
    "print(type(idade))"
   ]
  },
  {
   "cell_type": "code",
   "execution_count": 4,
   "metadata": {},
   "outputs": [
    {
     "data": {
      "text/plain": [
       "1"
      ]
     },
     "execution_count": 4,
     "metadata": {},
     "output_type": "execute_result"
    }
   ],
   "source": [
    "5%2"
   ]
  },
  {
   "cell_type": "code",
   "execution_count": 7,
   "metadata": {},
   "outputs": [
    {
     "name": "stdout",
     "output_type": "stream",
     "text": [
      "17\n",
      "3\n"
     ]
    }
   ],
   "source": [
    "# = equivale a x=1\n",
    "# += equivale a x= x+1\n",
    "# -= equivale a x = x-1\n",
    "# if 5%2\n",
    "\n",
    "numero = 10\n",
    "\n",
    "numero +=7\n",
    "print(numero)\n",
    "\n",
    "numero = 10\n",
    "numero -=7\n",
    "print(numero)"
   ]
  },
  {
   "cell_type": "code",
   "execution_count": 14,
   "metadata": {},
   "outputs": [
    {
     "name": "stdout",
     "output_type": "stream",
     "text": [
      "3\n",
      "7\n",
      "13\n",
      "2\n"
     ]
    }
   ],
   "source": [
    "variavel = 1 + 2 or 3 + 4\n",
    "print(variavel)\n",
    "\n",
    "variavel = 3 + 4 or 1 + 2\n",
    "print(variavel)\n",
    "\n",
    "variavel = 3 + 10 or 1 + 2\n",
    "print(variavel)\n",
    "\n",
    "variavel = 1 + 1 or 1 + 2\n",
    "print(variavel)\n"
   ]
  },
  {
   "cell_type": "code",
   "execution_count": 28,
   "metadata": {},
   "outputs": [
    {
     "name": "stdout",
     "output_type": "stream",
     "text": [
      "As duas condições são verdadeiras\n",
      "Inverte o resultado da condição entre os parâmetros\n",
      "não tem o e na lista\n",
      "não tem o e na lista\n"
     ]
    }
   ],
   "source": [
    "num1 = 7\n",
    "num2 = 4\n",
    "\n",
    "if num1 > 3 and num2 < 8:\n",
    "    print('As duas condições são verdadeiras')\n",
    "\n",
    "if not (num1 < 4 and num2 < 8):\n",
    "    print('Inverte o resultado da condição entre os parâmetros')\n",
    "\n",
    "lista = ['a', 'b', 'c', 'd']\n",
    "\n",
    "if 'e' not in lista:\n",
    "    print('não tem o e na lista')\n",
    "\n",
    "lista = ['a', 'b', 'c', 'd']\n",
    "\n",
    "if 'e' not in lista:\n",
    "    print('não tem o e na lista')\n"
   ]
  },
  {
   "cell_type": "code",
   "execution_count": 31,
   "metadata": {},
   "outputs": [
    {
     "name": "stdout",
     "output_type": "stream",
     "text": [
      "<class 'int'>\n",
      "<class 'float'>\n",
      "<class 'bool'>\n",
      "<class 'bool'>\n",
      "<class 'int'>\n",
      "<class 'float'>\n",
      "<class 'str'>\n",
      "<class 'str'>\n"
     ]
    }
   ],
   "source": [
    "#1 - Types\n",
    "\n",
    "a = 1\n",
    "print(type(a))\n",
    "\n",
    "b = 12.6\n",
    "print(type(b))\n",
    "\n",
    "c = True \n",
    "print(type(c))\n",
    "\n",
    "d = False\n",
    "print(type(d))\n",
    "\n",
    "e = -543 \n",
    "print(type(e))\n",
    "\n",
    "f = 5.76\n",
    "print(type(f))\n",
    "\n",
    "g = \"copo\"\n",
    "print(type(g))\n",
    "\n",
    "h = 'Belo dia'\n",
    "print(type(h))\n"
   ]
  },
  {
   "cell_type": "code",
   "execution_count": 34,
   "metadata": {},
   "outputs": [
    {
     "ename": "SyntaxError",
     "evalue": "invalid decimal literal (2022254966.py, line 6)",
     "output_type": "error",
     "traceback": [
      "\u001b[1;36m  Input \u001b[1;32mIn [34]\u001b[1;36m\u001b[0m\n\u001b[1;33m    b = 1a\u001b[0m\n\u001b[1;37m        ^\u001b[0m\n\u001b[1;31mSyntaxError\u001b[0m\u001b[1;31m:\u001b[0m invalid decimal literal\n"
     ]
    }
   ],
   "source": [
    "# 2 - Print quais estão corretos\n",
    "\n",
    "a = 1\n",
    "print(a)\n",
    "\n",
    "b = 1a\n",
    "print(b)\n",
    "\n",
    "c = a1\n",
    "print(c)\n",
    "\n",
    "d = 1.\n",
    "print(d)\n",
    "\n",
    "e = .2\n",
    "print(e)\n",
    "\n",
    "f = -.3\n",
    "print(f)\n",
    "\n",
    "g = 'agua'\"limpa\"\n",
    "print(g)\n",
    "\n",
    "h = \"agua\"\" \n",
    "print(h)\n",
    "\n",
    "y = \"\"\"teste 1 2 3\"\"\"\n",
    "print(i)\n",
    "\n",
    "\n"
   ]
  },
  {
   "cell_type": "code",
   "execution_count": 39,
   "metadata": {},
   "outputs": [
    {
     "name": "stdout",
     "output_type": "stream",
     "text": [
      "13\n",
      "7\n",
      "30\n",
      "3.3333333333333335\n",
      "3.3333333333333335\n",
      "4.333333333333333\n",
      "4.0\n",
      "605\n",
      "700\n",
      "70.0\n",
      "65.0\n"
     ]
    }
   ],
   "source": [
    "# 3 - Determine qual é o resultado dos seguintes cálculos no Python:\n",
    "\n",
    "# I -\n",
    "\n",
    "a = 10 + 3\n",
    "print(a)\n",
    "\n",
    "b = 10 - 3\n",
    "print(b)\n",
    "\n",
    "c = 10 * 3\n",
    "print(c)\n",
    "\n",
    "d = 10 / 3\n",
    "print(d)\n",
    "\n",
    "e = 10 / 3.0\n",
    "print(e)\n",
    "\n",
    "f = 13 / 3\n",
    "print(f)\n",
    "\n",
    "g = 13 // 3.0\n",
    "print(g)\n",
    "\n",
    "# II -\n",
    "\n",
    "a = 5 + 30 * 20\n",
    "print(a)\n",
    "\n",
    "b = (5 + 30) * 20\n",
    "print(b)\n",
    "\n",
    "c = ((5 + 30) * 20) / 10\n",
    "print(c)\n",
    "\n",
    "d = 5 + 30 * 20 / 10\n",
    "print(d)\n"
   ]
  },
  {
   "cell_type": "code",
   "execution_count": 1,
   "metadata": {},
   "outputs": [
    {
     "name": "stdout",
     "output_type": "stream",
     "text": [
      "True\n",
      "True\n",
      "True\n",
      "True\n",
      "True\n",
      "False\n",
      "True\n",
      "False\n",
      "True\n"
     ]
    }
   ],
   "source": [
    "#III\n",
    "\n",
    "a = 2 < 3\n",
    "print(a)\n",
    "\n",
    "b = 9 > 8 \n",
    "print(b)\n",
    "\n",
    "c = 1==1\n",
    "print(c)\n",
    "\n",
    "d = 1 != 3\n",
    "print(d)\n",
    "\n",
    "e = 4 <= 4\n",
    "print(e)\n",
    "\n",
    "f = 5 >= 6\n",
    "print(f)\n",
    "\n",
    "g = 1 < 2 < 3\n",
    "print(g)\n",
    "\n",
    "h = 1 < 2 < 2\n",
    "print(h)\n",
    "\n",
    "i = 1 + 2 < 25/5\n",
    "print(i)\n"
   ]
  },
  {
   "cell_type": "code",
   "execution_count": 16,
   "metadata": {},
   "outputs": [
    {
     "name": "stdout",
     "output_type": "stream",
     "text": [
      "False\n",
      "True\n",
      "True\n",
      "D'Angeles\n",
      "True\n",
      "80\n"
     ]
    }
   ],
   "source": [
    "a = not True\n",
    "print(a)\n",
    "\n",
    "b = not False\n",
    "print(b)\n",
    "\n",
    "c = True and True\n",
    "print(c)\n",
    "\n",
    "z ='D\\'Angeles'\n",
    "print(z)\n",
    "\n",
    "d = not (True and False) and (True or False)\n",
    "print(d)\n",
    "\n",
    "\n",
    "x = 10\n",
    "x = x + 10\n",
    "x = 100 - x\n",
    "print(x)"
   ]
  },
  {
   "cell_type": "code",
   "execution_count": 39,
   "metadata": {},
   "outputs": [
    {
     "name": "stdout",
     "output_type": "stream",
     "text": [
      "4\n",
      "114.0\n",
      "2.0\n",
      "6\n",
      "2.0\n",
      "True\n"
     ]
    }
   ],
   "source": [
    "\n",
    "lado = 2\n",
    "quadrado = lado * lado\n",
    "print(quadrado)\n",
    "\n",
    "mala = 120.00\n",
    "porcentagem = 0.05\n",
    "desconto = mala - (mala * porcentagem)\n",
    "print(desconto)\n",
    "\n",
    "velocidade1 = 100\n",
    "trecho = 200\n",
    "horasViagem = trecho / velocidade1\n",
    "print(horasViagem)\n",
    "\n",
    "joao = 2\n",
    "maria = 3\n",
    "sofia = 1\n",
    "total = joao + maria + sofia\n",
    "media = (total / 3)\n",
    "print(total)\n",
    "print(media)\n",
    "\n",
    "\n",
    "davi = 13\n",
    "irma = 7\n",
    "eh_mais_velho = davi > irma\n",
    "print(eh_mais_velho)\n"
   ]
  },
  {
   "cell_type": "code",
   "execution_count": 44,
   "metadata": {},
   "outputs": [
    {
     "name": "stdout",
     "output_type": "stream",
     "text": [
      "6.0\n",
      "6.0\n"
     ]
    }
   ],
   "source": [
    "#6\n",
    "\n",
    "z = 3\n",
    "z += 2\n",
    "z *= 6\n",
    "z /= 5\n",
    "print(z)\n",
    "\n",
    "z = 3\n",
    "z = z + 2\n",
    "z = z * 6 \n",
    "z = z / 5\n",
    "print(z)\n",
    "\n"
   ]
  },
  {
   "cell_type": "code",
   "execution_count": 63,
   "metadata": {},
   "outputs": [
    {
     "name": "stdout",
     "output_type": "stream",
     "text": [
      "12.4\n",
      "12.4\n",
      "3.4\n",
      "3.4\n",
      "0\n"
     ]
    }
   ],
   "source": [
    "#7\n",
    "\n",
    "ovo = 3.4\n",
    "caju = 12.4\n",
    "i = 0\n",
    "\n",
    "resposta = ovo if 1 > 2 else caju\n",
    "print(resposta)\n",
    "\n",
    "resposta1 = ovo if ovo > caju else caju\n",
    "print(resposta1)\n",
    "\n",
    "resposta2 = ovo if ovo < caju else caju \n",
    "print(resposta2)\n",
    "\n",
    "resposta3 = ovo if ovo + caju > 15 else 200\n",
    "print(resposta3)\n",
    "\n",
    "resposta4 = 100 if ovo == 3 else 0\n",
    "print(resposta4)\n",
    "\n",
    "\n",
    "\n"
   ]
  },
  {
   "cell_type": "code",
   "execution_count": 64,
   "metadata": {},
   "outputs": [
    {
     "name": "stdout",
     "output_type": "stream",
     "text": [
      "1\n"
     ]
    }
   ],
   "source": [
    "#8\n",
    "\n",
    "ab = 10\n",
    "Ab = 20\n",
    "aB = 30\n",
    "AB = ab + Ab - aB\n",
    "fim = AB + 1\n",
    "print(fim)\n"
   ]
  },
  {
   "cell_type": "code",
   "execution_count": 65,
   "metadata": {},
   "outputs": [
    {
     "ename": "",
     "evalue": "",
     "output_type": "error",
     "traceback": [
      "\u001b[1;31mCanceled future for execute_request message before replies were done"
     ]
    },
    {
     "ename": "",
     "evalue": "",
     "output_type": "error",
     "traceback": [
      "O Kernel falhou ao executar o código na célula atual ou em uma célula anterior. Examine o código nas células para identificar uma possível causa da falha. Clique <a href=\"https://aka.ms/vscodeJupyterKernelCrash\">aqui</a> para obter mais informações. Consulte o <a href='command:jupyter.viewOutput'>log</a> do Jupyter para obter mais detalhes."
     ]
    }
   ],
   "source": [
    "#9\n",
    "valor = input(\"Informe um valor: \")\n",
    "print(\"Valor informado: \", valor)\n"
   ]
  }
 ],
 "metadata": {
  "kernelspec": {
   "display_name": "Python 3.10.5 64-bit",
   "language": "python",
   "name": "python3"
  },
  "language_info": {
   "codemirror_mode": {
    "name": "ipython",
    "version": 3
   },
   "file_extension": ".py",
   "mimetype": "text/x-python",
   "name": "python",
   "nbconvert_exporter": "python",
   "pygments_lexer": "ipython3",
   "version": "3.10.5"
  },
  "orig_nbformat": 4,
  "vscode": {
   "interpreter": {
    "hash": "afb734500600fd355917ca529030176ea0ca205570884b88f2f6f7d791fd3fbe"
   }
  }
 },
 "nbformat": 4,
 "nbformat_minor": 2
}
